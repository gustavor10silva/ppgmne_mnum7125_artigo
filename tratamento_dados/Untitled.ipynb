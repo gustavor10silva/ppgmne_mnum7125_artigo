{
 "cells": [
  {
   "cell_type": "markdown",
   "id": "e6808c5d",
   "metadata": {},
   "source": [
    "# Tratamento nos dados\n",
    "Notebook destinado a realizar a preparação dos dados para a otimização"
   ]
  },
  {
   "cell_type": "code",
   "execution_count": 1,
   "id": "80ffd7aa",
   "metadata": {},
   "outputs": [],
   "source": [
    "import os\n",
    "import pandas as pd"
   ]
  },
  {
   "cell_type": "markdown",
   "id": "0e3b7da9",
   "metadata": {},
   "source": [
    "## Lendo o arquivo original"
   ]
  },
  {
   "cell_type": "code",
   "execution_count": 3,
   "id": "c6af4396",
   "metadata": {},
   "outputs": [
    {
     "data": {
      "text/html": [
       "<div>\n",
       "<style scoped>\n",
       "    .dataframe tbody tr th:only-of-type {\n",
       "        vertical-align: middle;\n",
       "    }\n",
       "\n",
       "    .dataframe tbody tr th {\n",
       "        vertical-align: top;\n",
       "    }\n",
       "\n",
       "    .dataframe thead th {\n",
       "        text-align: right;\n",
       "    }\n",
       "</style>\n",
       "<table border=\"1\" class=\"dataframe\">\n",
       "  <thead>\n",
       "    <tr style=\"text-align: right;\">\n",
       "      <th></th>\n",
       "      <th>Campus</th>\n",
       "      <th>Turma</th>\n",
       "      <th>Período do Dia</th>\n",
       "      <th>Parte do Horário</th>\n",
       "      <th>Semestre</th>\n",
       "      <th>Dia</th>\n",
       "      <th>Tipo de Curso</th>\n",
       "      <th>Tipo de Turma</th>\n",
       "      <th>Aula</th>\n",
       "      <th>prof</th>\n",
       "      <th>Observação</th>\n",
       "    </tr>\n",
       "  </thead>\n",
       "  <tbody>\n",
       "    <tr>\n",
       "      <th>0</th>\n",
       "      <td>MIRASOL</td>\n",
       "      <td>EAQ</td>\n",
       "      <td>MANHÃ</td>\n",
       "      <td>1.0</td>\n",
       "      <td>1.0</td>\n",
       "      <td>SEGUNDA</td>\n",
       "      <td>MATUTINO</td>\n",
       "      <td>INTEGRAL MT</td>\n",
       "      <td>INTRODUÇÃO A AQUICULTURA</td>\n",
       "      <td>LAGREZE</td>\n",
       "      <td>NaN</td>\n",
       "    </tr>\n",
       "    <tr>\n",
       "      <th>1</th>\n",
       "      <td>MIRASOL</td>\n",
       "      <td>EAQ</td>\n",
       "      <td>MANHÃ</td>\n",
       "      <td>2.0</td>\n",
       "      <td>1.0</td>\n",
       "      <td>SEGUNDA</td>\n",
       "      <td>MATUTINO</td>\n",
       "      <td>INTEGRAL MT</td>\n",
       "      <td>INTRODUÇÃO A AQUICULTURA</td>\n",
       "      <td>LAGREZE</td>\n",
       "      <td>NaN</td>\n",
       "    </tr>\n",
       "    <tr>\n",
       "      <th>2</th>\n",
       "      <td>MIRASOL</td>\n",
       "      <td>EAQ</td>\n",
       "      <td>MANHÃ</td>\n",
       "      <td>3.0</td>\n",
       "      <td>1.0</td>\n",
       "      <td>SEGUNDA</td>\n",
       "      <td>MATUTINO</td>\n",
       "      <td>INTEGRAL MT</td>\n",
       "      <td>PROBABILIDADE</td>\n",
       "      <td>CENDON</td>\n",
       "      <td>NaN</td>\n",
       "    </tr>\n",
       "    <tr>\n",
       "      <th>3</th>\n",
       "      <td>MIRASOL</td>\n",
       "      <td>EAQ</td>\n",
       "      <td>MANHÃ</td>\n",
       "      <td>4.0</td>\n",
       "      <td>1.0</td>\n",
       "      <td>SEGUNDA</td>\n",
       "      <td>MATUTINO</td>\n",
       "      <td>INTEGRAL MT</td>\n",
       "      <td>PROBABILIDADE</td>\n",
       "      <td>CENDON</td>\n",
       "      <td>NaN</td>\n",
       "    </tr>\n",
       "    <tr>\n",
       "      <th>4</th>\n",
       "      <td>MIRASOL</td>\n",
       "      <td>EAQ</td>\n",
       "      <td>MANHÃ</td>\n",
       "      <td>1.0</td>\n",
       "      <td>1.0</td>\n",
       "      <td>TERÇA</td>\n",
       "      <td>MATUTINO</td>\n",
       "      <td>INTEGRAL MT</td>\n",
       "      <td>INTRODUÇÃO A QUALIDADE</td>\n",
       "      <td>SACHSIDA</td>\n",
       "      <td>NaN</td>\n",
       "    </tr>\n",
       "  </tbody>\n",
       "</table>\n",
       "</div>"
      ],
      "text/plain": [
       "    Campus Turma Período do Dia  Parte do Horário  Semestre      Dia  \\\n",
       "0  MIRASOL   EAQ          MANHÃ               1.0       1.0  SEGUNDA   \n",
       "1  MIRASOL   EAQ          MANHÃ               2.0       1.0  SEGUNDA   \n",
       "2  MIRASOL   EAQ          MANHÃ               3.0       1.0  SEGUNDA   \n",
       "3  MIRASOL   EAQ          MANHÃ               4.0       1.0  SEGUNDA   \n",
       "4  MIRASOL   EAQ          MANHÃ               1.0       1.0    TERÇA   \n",
       "\n",
       "  Tipo de Curso Tipo de Turma                      Aula      prof Observação  \n",
       "0      MATUTINO   INTEGRAL MT  INTRODUÇÃO A AQUICULTURA   LAGREZE        NaN  \n",
       "1      MATUTINO   INTEGRAL MT  INTRODUÇÃO A AQUICULTURA   LAGREZE        NaN  \n",
       "2      MATUTINO   INTEGRAL MT             PROBABILIDADE    CENDON        NaN  \n",
       "3      MATUTINO   INTEGRAL MT             PROBABILIDADE    CENDON        NaN  \n",
       "4      MATUTINO   INTEGRAL MT    INTRODUÇÃO A QUALIDADE  SACHSIDA        NaN  "
      ]
     },
     "execution_count": 3,
     "metadata": {},
     "output_type": "execute_result"
    }
   ],
   "source": [
    "os.chdir('..')\n",
    "os.chdir('dados')\n",
    "\n",
    "# Ler o arquivo CSV (substitua 'arquivo.csv' pelo nome do arquivo)\n",
    "df = pd.read_csv('grade_compilada.csv', sep = ';')\n",
    "\n",
    "# Exibir as primeiras linhas do DataFrame\n",
    "df.head()\n"
   ]
  },
  {
   "cell_type": "code",
   "execution_count": null,
   "id": "4f71d711",
   "metadata": {},
   "outputs": [],
   "source": []
  }
 ],
 "metadata": {
  "kernelspec": {
   "display_name": "Python 3 (ipykernel)",
   "language": "python",
   "name": "python3"
  },
  "language_info": {
   "codemirror_mode": {
    "name": "ipython",
    "version": 3
   },
   "file_extension": ".py",
   "mimetype": "text/x-python",
   "name": "python",
   "nbconvert_exporter": "python",
   "pygments_lexer": "ipython3",
   "version": "3.9.12"
  }
 },
 "nbformat": 4,
 "nbformat_minor": 5
}
