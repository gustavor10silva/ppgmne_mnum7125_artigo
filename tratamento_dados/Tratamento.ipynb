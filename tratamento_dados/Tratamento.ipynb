{
 "cells": [
  {
   "cell_type": "markdown",
   "metadata": {},
   "source": [
    "# Tratamento nos dados\n",
    "Notebook destinado a realizar a preparação dos dados para a otimização"
   ]
  },
  {
   "cell_type": "code",
   "execution_count": 1,
   "metadata": {},
   "outputs": [],
   "source": [
    "import os\n",
    "import pandas as pd\n",
    "import numpy as np\n",
    "\n",
    "os.chdir('..')\n",
    "os.chdir('utils')\n",
    "from funcoes import remover_acentos_e_caracteres"
   ]
  },
  {
   "cell_type": "markdown",
   "metadata": {},
   "source": [
    "## Lendo o arquivo original"
   ]
  },
  {
   "cell_type": "code",
   "execution_count": 2,
   "metadata": {
    "scrolled": false
   },
   "outputs": [
    {
     "data": {
      "text/html": [
       "<div>\n",
       "<style scoped>\n",
       "    .dataframe tbody tr th:only-of-type {\n",
       "        vertical-align: middle;\n",
       "    }\n",
       "\n",
       "    .dataframe tbody tr th {\n",
       "        vertical-align: top;\n",
       "    }\n",
       "\n",
       "    .dataframe thead th {\n",
       "        text-align: right;\n",
       "    }\n",
       "</style>\n",
       "<table border=\"1\" class=\"dataframe\">\n",
       "  <thead>\n",
       "    <tr style=\"text-align: right;\">\n",
       "      <th></th>\n",
       "      <th>Campus</th>\n",
       "      <th>Curso</th>\n",
       "      <th>Periodo_dia</th>\n",
       "      <th>Horario</th>\n",
       "      <th>Semestre</th>\n",
       "      <th>Dia</th>\n",
       "      <th>Periodo_Aula</th>\n",
       "      <th>Tipo_Curso</th>\n",
       "      <th>Materia</th>\n",
       "      <th>Professor</th>\n",
       "      <th>Observacao</th>\n",
       "    </tr>\n",
       "  </thead>\n",
       "  <tbody>\n",
       "    <tr>\n",
       "      <th>611</th>\n",
       "      <td>PONTAL</td>\n",
       "      <td>OCEANO</td>\n",
       "      <td>TARDE</td>\n",
       "      <td>4</td>\n",
       "      <td>9</td>\n",
       "      <td>TERÇA</td>\n",
       "      <td>VESPERTINO</td>\n",
       "      <td>INTEGRAL</td>\n",
       "      <td>GASES_DISOLVIDOS_E_ACIDIFICAÇÃO</td>\n",
       "      <td>TATIANE</td>\n",
       "      <td>NaN</td>\n",
       "    </tr>\n",
       "    <tr>\n",
       "      <th>612</th>\n",
       "      <td>PONTAL</td>\n",
       "      <td>OCEANO</td>\n",
       "      <td>TARDE</td>\n",
       "      <td>1</td>\n",
       "      <td>9</td>\n",
       "      <td>QUARTA</td>\n",
       "      <td>VESPERTINO</td>\n",
       "      <td>INTEGRAL</td>\n",
       "      <td>INTRODUCAO_A_MODELAGEM_DE_PROCESSOS</td>\n",
       "      <td>DOURADO</td>\n",
       "      <td>NaN</td>\n",
       "    </tr>\n",
       "    <tr>\n",
       "      <th>613</th>\n",
       "      <td>PONTAL</td>\n",
       "      <td>OCEANO</td>\n",
       "      <td>TARDE</td>\n",
       "      <td>2</td>\n",
       "      <td>9</td>\n",
       "      <td>QUARTA</td>\n",
       "      <td>VESPERTINO</td>\n",
       "      <td>INTEGRAL</td>\n",
       "      <td>INTRODUCAO_A_MODELAGEM_DE_PROCESSOS</td>\n",
       "      <td>DOURADO</td>\n",
       "      <td>NaN</td>\n",
       "    </tr>\n",
       "    <tr>\n",
       "      <th>616</th>\n",
       "      <td>PONTAL</td>\n",
       "      <td>OCEANO</td>\n",
       "      <td>TARDE</td>\n",
       "      <td>1</td>\n",
       "      <td>9</td>\n",
       "      <td>QUINTA</td>\n",
       "      <td>VESPERTINO</td>\n",
       "      <td>INTEGRAL</td>\n",
       "      <td>INTRODUCAO_A_MODELAGEM_DE_PROCESSOS</td>\n",
       "      <td>DOURADO</td>\n",
       "      <td>NaN</td>\n",
       "    </tr>\n",
       "    <tr>\n",
       "      <th>617</th>\n",
       "      <td>PONTAL</td>\n",
       "      <td>OCEANO</td>\n",
       "      <td>TARDE</td>\n",
       "      <td>2</td>\n",
       "      <td>9</td>\n",
       "      <td>QUINTA</td>\n",
       "      <td>VESPERTINO</td>\n",
       "      <td>INTEGRAL</td>\n",
       "      <td>INTRODUCAO_A_MODELAGEM_DE_PROCESSOS</td>\n",
       "      <td>DOURADO</td>\n",
       "      <td>NaN</td>\n",
       "    </tr>\n",
       "  </tbody>\n",
       "</table>\n",
       "</div>"
      ],
      "text/plain": [
       "     Campus   Curso Periodo_dia  Horario  Semestre     Dia Periodo_Aula  \\\n",
       "611  PONTAL  OCEANO       TARDE        4         9   TERÇA   VESPERTINO   \n",
       "612  PONTAL  OCEANO       TARDE        1         9  QUARTA   VESPERTINO   \n",
       "613  PONTAL  OCEANO       TARDE        2         9  QUARTA   VESPERTINO   \n",
       "616  PONTAL  OCEANO       TARDE        1         9  QUINTA   VESPERTINO   \n",
       "617  PONTAL  OCEANO       TARDE        2         9  QUINTA   VESPERTINO   \n",
       "\n",
       "    Tipo_Curso                              Materia Professor Observacao  \n",
       "611   INTEGRAL      GASES_DISOLVIDOS_E_ACIDIFICAÇÃO   TATIANE        NaN  \n",
       "612   INTEGRAL  INTRODUCAO_A_MODELAGEM_DE_PROCESSOS   DOURADO        NaN  \n",
       "613   INTEGRAL  INTRODUCAO_A_MODELAGEM_DE_PROCESSOS   DOURADO        NaN  \n",
       "616   INTEGRAL  INTRODUCAO_A_MODELAGEM_DE_PROCESSOS   DOURADO        NaN  \n",
       "617   INTEGRAL  INTRODUCAO_A_MODELAGEM_DE_PROCESSOS   DOURADO        NaN  "
      ]
     },
     "execution_count": 2,
     "metadata": {},
     "output_type": "execute_result"
    }
   ],
   "source": [
    "os.chdir('..')\n",
    "os.chdir('dados')\n",
    "\n",
    "# Ler o arquivo CSV (substitua 'arquivo.csv' pelo nome do arquivo)\n",
    "df = pd.read_csv('grade_compilada_2.csv', sep = ';',)\n",
    "df.rename(columns={'Período do Dia':'Periodo_dia', 'Parte do Horário':'Horario',\n",
    "           'Tipo de Curso':'Periodo_Aula', 'Tipo de Turma':'Tipo_Curso',\n",
    "            'prof':'Professor', 'Observação':'Observacao','Turma':'Curso','Aula':'Materia'}, inplace=True)\n",
    "\n",
    "# Exclui dados nulos\n",
    "df.dropna(subset=['Curso'], inplace=True)\n",
    "\n",
    "#Remove TCCs, que não precisa de sala\n",
    "df = df[(df['Observacao']!='TCC') & (df['Observacao']!='1H')]\n",
    "\n",
    "# Retirando as meterias sem professor que são diferentes de optativas\n",
    "# Provavelmente não estão no currículo novo\n",
    "df = df[df['Observacao']!='OPTATIVA']\n",
    "df = df[~(df['Professor'].isnull())]\n",
    "\n",
    "#Remove materias em ead\n",
    "df = df.loc[~df['Observacao'].str.contains('EAD', case=False, na=False)]\n",
    "\n",
    "# Ajusta a coluna campus para conter somente PONTAL E MIRASSOL\n",
    "df['Campus'] = df['Campus'].replace('PONTAL LABORATÓRIO ', 'PONTAL')\n",
    "\n",
    "# Ajusta o campus das LCEs, todos os cursos são em mirassol\n",
    "df.loc[df['Curso'].str.contains('LCE', case=False, na=False), 'Campus'] = 'MIRASOL'\n",
    "\n",
    "df['Materia'] = df['Materia'].str.replace(' ', '_')\n",
    "\n",
    "df.tail()\n"
   ]
  },
  {
   "cell_type": "code",
   "execution_count": 3,
   "metadata": {},
   "outputs": [
    {
     "data": {
      "text/plain": [
       "array([nan, 'MIRASOL/PONTAL', 'SALA 4- SALA QUE TEM COMPUTADORES',\n",
       "       'SALA 4', 'PONTAL/MIRASOL', 'COMUM ENTRE LCE'], dtype=object)"
      ]
     },
     "execution_count": 3,
     "metadata": {},
     "output_type": "execute_result"
    }
   ],
   "source": [
    "df['Observacao'].unique()"
   ]
  },
  {
   "cell_type": "code",
   "execution_count": 4,
   "metadata": {},
   "outputs": [
    {
     "data": {
      "text/plain": [
       "array(['MIRASOL', 'PONTAL'], dtype=object)"
      ]
     },
     "execution_count": 4,
     "metadata": {},
     "output_type": "execute_result"
    }
   ],
   "source": [
    "df['Campus'].unique()"
   ]
  },
  {
   "cell_type": "code",
   "execution_count": 5,
   "metadata": {},
   "outputs": [
    {
     "data": {
      "text/plain": [
       "array(['MIRASOL'], dtype=object)"
      ]
     },
     "execution_count": 5,
     "metadata": {},
     "output_type": "execute_result"
    }
   ],
   "source": [
    "df[df['Curso'].isin(['LCE', 'LCEFISICA', 'LCEMATEMATICA', 'LCEQUIMICA'])]['Campus'].unique()"
   ]
  },
  {
   "cell_type": "code",
   "execution_count": 6,
   "metadata": {},
   "outputs": [
    {
     "data": {
      "text/plain": [
       "Campus            0\n",
       "Curso             0\n",
       "Periodo_dia       0\n",
       "Horario           0\n",
       "Semestre          0\n",
       "Dia               0\n",
       "Periodo_Aula      0\n",
       "Tipo_Curso        0\n",
       "Materia           0\n",
       "Professor         0\n",
       "Observacao      509\n",
       "dtype: int64"
      ]
     },
     "execution_count": 6,
     "metadata": {},
     "output_type": "execute_result"
    }
   ],
   "source": [
    "df.isna().sum()"
   ]
  },
  {
   "cell_type": "code",
   "execution_count": 7,
   "metadata": {},
   "outputs": [
    {
     "data": {
      "text/html": [
       "<div>\n",
       "<style scoped>\n",
       "    .dataframe tbody tr th:only-of-type {\n",
       "        vertical-align: middle;\n",
       "    }\n",
       "\n",
       "    .dataframe tbody tr th {\n",
       "        vertical-align: top;\n",
       "    }\n",
       "\n",
       "    .dataframe thead th {\n",
       "        text-align: right;\n",
       "    }\n",
       "</style>\n",
       "<table border=\"1\" class=\"dataframe\">\n",
       "  <thead>\n",
       "    <tr style=\"text-align: right;\">\n",
       "      <th></th>\n",
       "      <th>Campus</th>\n",
       "      <th>Curso</th>\n",
       "      <th>Periodo_dia</th>\n",
       "      <th>Horario</th>\n",
       "      <th>Semestre</th>\n",
       "      <th>Dia</th>\n",
       "      <th>Periodo_Aula</th>\n",
       "      <th>Tipo_Curso</th>\n",
       "      <th>Materia</th>\n",
       "      <th>Professor</th>\n",
       "      <th>Observacao</th>\n",
       "    </tr>\n",
       "  </thead>\n",
       "  <tbody>\n",
       "  </tbody>\n",
       "</table>\n",
       "</div>"
      ],
      "text/plain": [
       "Empty DataFrame\n",
       "Columns: [Campus, Curso, Periodo_dia, Horario, Semestre, Dia, Periodo_Aula, Tipo_Curso, Materia, Professor, Observacao]\n",
       "Index: []"
      ]
     },
     "execution_count": 7,
     "metadata": {},
     "output_type": "execute_result"
    }
   ],
   "source": [
    "df[df['Professor'].isnull()]"
   ]
  },
  {
   "cell_type": "markdown",
   "metadata": {},
   "source": [
    "## Remove acentos e caracteres especiais"
   ]
  },
  {
   "cell_type": "code",
   "execution_count": 8,
   "metadata": {},
   "outputs": [],
   "source": [
    "colunas_para_tratar = ['Campus', 'Curso', 'Periodo_dia', 'Dia',\n",
    "       'Periodo_Aula', 'Tipo_Curso', 'Materia', 'Professor', 'Observacao']\n",
    "df[colunas_para_tratar] = df[colunas_para_tratar].applymap(remover_acentos_e_caracteres)\n"
   ]
  },
  {
   "cell_type": "code",
   "execution_count": 9,
   "metadata": {},
   "outputs": [
    {
     "data": {
      "text/html": [
       "<div>\n",
       "<style scoped>\n",
       "    .dataframe tbody tr th:only-of-type {\n",
       "        vertical-align: middle;\n",
       "    }\n",
       "\n",
       "    .dataframe tbody tr th {\n",
       "        vertical-align: top;\n",
       "    }\n",
       "\n",
       "    .dataframe thead th {\n",
       "        text-align: right;\n",
       "    }\n",
       "</style>\n",
       "<table border=\"1\" class=\"dataframe\">\n",
       "  <thead>\n",
       "    <tr style=\"text-align: right;\">\n",
       "      <th></th>\n",
       "      <th>Campus</th>\n",
       "      <th>Curso</th>\n",
       "      <th>Periodo_dia</th>\n",
       "      <th>Horario</th>\n",
       "      <th>Semestre</th>\n",
       "      <th>Dia</th>\n",
       "      <th>Periodo_Aula</th>\n",
       "      <th>Tipo_Curso</th>\n",
       "      <th>Materia</th>\n",
       "      <th>Professor</th>\n",
       "      <th>Observacao</th>\n",
       "    </tr>\n",
       "  </thead>\n",
       "  <tbody>\n",
       "    <tr>\n",
       "      <th>0</th>\n",
       "      <td>MIRASOL</td>\n",
       "      <td>EAQ</td>\n",
       "      <td>MANHA</td>\n",
       "      <td>1</td>\n",
       "      <td>1</td>\n",
       "      <td>SEGUNDA</td>\n",
       "      <td>MATUTINO</td>\n",
       "      <td>MATUTINO</td>\n",
       "      <td>INTRODUCAOAAQUICULTURA</td>\n",
       "      <td>LAGREZE</td>\n",
       "      <td>NaN</td>\n",
       "    </tr>\n",
       "    <tr>\n",
       "      <th>1</th>\n",
       "      <td>MIRASOL</td>\n",
       "      <td>EAQ</td>\n",
       "      <td>MANHA</td>\n",
       "      <td>2</td>\n",
       "      <td>1</td>\n",
       "      <td>SEGUNDA</td>\n",
       "      <td>MATUTINO</td>\n",
       "      <td>MATUTINO</td>\n",
       "      <td>INTRODUCAOAAQUICULTURA</td>\n",
       "      <td>LAGREZE</td>\n",
       "      <td>NaN</td>\n",
       "    </tr>\n",
       "    <tr>\n",
       "      <th>2</th>\n",
       "      <td>MIRASOL</td>\n",
       "      <td>EAQ</td>\n",
       "      <td>MANHA</td>\n",
       "      <td>3</td>\n",
       "      <td>1</td>\n",
       "      <td>SEGUNDA</td>\n",
       "      <td>MATUTINO</td>\n",
       "      <td>MATUTINO</td>\n",
       "      <td>PROBABILIDADE</td>\n",
       "      <td>CENDON</td>\n",
       "      <td>NaN</td>\n",
       "    </tr>\n",
       "    <tr>\n",
       "      <th>3</th>\n",
       "      <td>MIRASOL</td>\n",
       "      <td>EAQ</td>\n",
       "      <td>MANHA</td>\n",
       "      <td>4</td>\n",
       "      <td>1</td>\n",
       "      <td>SEGUNDA</td>\n",
       "      <td>MATUTINO</td>\n",
       "      <td>MATUTINO</td>\n",
       "      <td>PROBABILIDADE</td>\n",
       "      <td>CENDON</td>\n",
       "      <td>NaN</td>\n",
       "    </tr>\n",
       "    <tr>\n",
       "      <th>4</th>\n",
       "      <td>MIRASOL</td>\n",
       "      <td>EAQ</td>\n",
       "      <td>MANHA</td>\n",
       "      <td>1</td>\n",
       "      <td>1</td>\n",
       "      <td>TERCA</td>\n",
       "      <td>MATUTINO</td>\n",
       "      <td>MATUTINO</td>\n",
       "      <td>INTRODUCAOAQUALIDADE</td>\n",
       "      <td>SACHSIDA</td>\n",
       "      <td>NaN</td>\n",
       "    </tr>\n",
       "  </tbody>\n",
       "</table>\n",
       "</div>"
      ],
      "text/plain": [
       "    Campus Curso Periodo_dia  Horario  Semestre      Dia Periodo_Aula  \\\n",
       "0  MIRASOL   EAQ       MANHA        1         1  SEGUNDA     MATUTINO   \n",
       "1  MIRASOL   EAQ       MANHA        2         1  SEGUNDA     MATUTINO   \n",
       "2  MIRASOL   EAQ       MANHA        3         1  SEGUNDA     MATUTINO   \n",
       "3  MIRASOL   EAQ       MANHA        4         1  SEGUNDA     MATUTINO   \n",
       "4  MIRASOL   EAQ       MANHA        1         1    TERCA     MATUTINO   \n",
       "\n",
       "  Tipo_Curso                 Materia Professor Observacao  \n",
       "0   MATUTINO  INTRODUCAOAAQUICULTURA   LAGREZE        NaN  \n",
       "1   MATUTINO  INTRODUCAOAAQUICULTURA   LAGREZE        NaN  \n",
       "2   MATUTINO           PROBABILIDADE    CENDON        NaN  \n",
       "3   MATUTINO           PROBABILIDADE    CENDON        NaN  \n",
       "4   MATUTINO    INTRODUCAOAQUALIDADE  SACHSIDA        NaN  "
      ]
     },
     "execution_count": 9,
     "metadata": {},
     "output_type": "execute_result"
    }
   ],
   "source": [
    "df.head()"
   ]
  },
  {
   "cell_type": "markdown",
   "metadata": {},
   "source": [
    "## Cria coluna curso+Semestre\n",
    "Essa coluna é criada porque temos materias diferentes entre os cursos de LCE para os diferentes periodos"
   ]
  },
  {
   "cell_type": "code",
   "execution_count": 10,
   "metadata": {},
   "outputs": [
    {
     "data": {
      "text/html": [
       "<div>\n",
       "<style scoped>\n",
       "    .dataframe tbody tr th:only-of-type {\n",
       "        vertical-align: middle;\n",
       "    }\n",
       "\n",
       "    .dataframe tbody tr th {\n",
       "        vertical-align: top;\n",
       "    }\n",
       "\n",
       "    .dataframe thead th {\n",
       "        text-align: right;\n",
       "    }\n",
       "</style>\n",
       "<table border=\"1\" class=\"dataframe\">\n",
       "  <thead>\n",
       "    <tr style=\"text-align: right;\">\n",
       "      <th></th>\n",
       "      <th>Campus</th>\n",
       "      <th>Curso</th>\n",
       "      <th>Periodo_dia</th>\n",
       "      <th>Horario</th>\n",
       "      <th>Semestre</th>\n",
       "      <th>Dia</th>\n",
       "      <th>Periodo_Aula</th>\n",
       "      <th>Tipo_Curso</th>\n",
       "      <th>Materia</th>\n",
       "      <th>Professor</th>\n",
       "      <th>Observacao</th>\n",
       "      <th>Semestre_Curso</th>\n",
       "    </tr>\n",
       "  </thead>\n",
       "  <tbody>\n",
       "    <tr>\n",
       "      <th>0</th>\n",
       "      <td>MIRASOL</td>\n",
       "      <td>EAQ</td>\n",
       "      <td>MANHA</td>\n",
       "      <td>1</td>\n",
       "      <td>1</td>\n",
       "      <td>SEGUNDA</td>\n",
       "      <td>MATUTINO</td>\n",
       "      <td>MATUTINO</td>\n",
       "      <td>INTRODUCAOAAQUICULTURA</td>\n",
       "      <td>LAGREZE</td>\n",
       "      <td>NaN</td>\n",
       "      <td>1_EAQ</td>\n",
       "    </tr>\n",
       "    <tr>\n",
       "      <th>1</th>\n",
       "      <td>MIRASOL</td>\n",
       "      <td>EAQ</td>\n",
       "      <td>MANHA</td>\n",
       "      <td>2</td>\n",
       "      <td>1</td>\n",
       "      <td>SEGUNDA</td>\n",
       "      <td>MATUTINO</td>\n",
       "      <td>MATUTINO</td>\n",
       "      <td>INTRODUCAOAAQUICULTURA</td>\n",
       "      <td>LAGREZE</td>\n",
       "      <td>NaN</td>\n",
       "      <td>1_EAQ</td>\n",
       "    </tr>\n",
       "    <tr>\n",
       "      <th>2</th>\n",
       "      <td>MIRASOL</td>\n",
       "      <td>EAQ</td>\n",
       "      <td>MANHA</td>\n",
       "      <td>3</td>\n",
       "      <td>1</td>\n",
       "      <td>SEGUNDA</td>\n",
       "      <td>MATUTINO</td>\n",
       "      <td>MATUTINO</td>\n",
       "      <td>PROBABILIDADE</td>\n",
       "      <td>CENDON</td>\n",
       "      <td>NaN</td>\n",
       "      <td>1_EAQ</td>\n",
       "    </tr>\n",
       "    <tr>\n",
       "      <th>3</th>\n",
       "      <td>MIRASOL</td>\n",
       "      <td>EAQ</td>\n",
       "      <td>MANHA</td>\n",
       "      <td>4</td>\n",
       "      <td>1</td>\n",
       "      <td>SEGUNDA</td>\n",
       "      <td>MATUTINO</td>\n",
       "      <td>MATUTINO</td>\n",
       "      <td>PROBABILIDADE</td>\n",
       "      <td>CENDON</td>\n",
       "      <td>NaN</td>\n",
       "      <td>1_EAQ</td>\n",
       "    </tr>\n",
       "    <tr>\n",
       "      <th>4</th>\n",
       "      <td>MIRASOL</td>\n",
       "      <td>EAQ</td>\n",
       "      <td>MANHA</td>\n",
       "      <td>1</td>\n",
       "      <td>1</td>\n",
       "      <td>TERCA</td>\n",
       "      <td>MATUTINO</td>\n",
       "      <td>MATUTINO</td>\n",
       "      <td>INTRODUCAOAQUALIDADE</td>\n",
       "      <td>SACHSIDA</td>\n",
       "      <td>NaN</td>\n",
       "      <td>1_EAQ</td>\n",
       "    </tr>\n",
       "  </tbody>\n",
       "</table>\n",
       "</div>"
      ],
      "text/plain": [
       "    Campus Curso Periodo_dia  Horario  Semestre      Dia Periodo_Aula  \\\n",
       "0  MIRASOL   EAQ       MANHA        1         1  SEGUNDA     MATUTINO   \n",
       "1  MIRASOL   EAQ       MANHA        2         1  SEGUNDA     MATUTINO   \n",
       "2  MIRASOL   EAQ       MANHA        3         1  SEGUNDA     MATUTINO   \n",
       "3  MIRASOL   EAQ       MANHA        4         1  SEGUNDA     MATUTINO   \n",
       "4  MIRASOL   EAQ       MANHA        1         1    TERCA     MATUTINO   \n",
       "\n",
       "  Tipo_Curso                 Materia Professor Observacao Semestre_Curso  \n",
       "0   MATUTINO  INTRODUCAOAAQUICULTURA   LAGREZE        NaN          1_EAQ  \n",
       "1   MATUTINO  INTRODUCAOAAQUICULTURA   LAGREZE        NaN          1_EAQ  \n",
       "2   MATUTINO           PROBABILIDADE    CENDON        NaN          1_EAQ  \n",
       "3   MATUTINO           PROBABILIDADE    CENDON        NaN          1_EAQ  \n",
       "4   MATUTINO    INTRODUCAOAQUALIDADE  SACHSIDA        NaN          1_EAQ  "
      ]
     },
     "execution_count": 10,
     "metadata": {},
     "output_type": "execute_result"
    }
   ],
   "source": [
    "df['Semestre_Curso'] = df['Semestre'].astype(int).astype(str) + '_' + df['Curso']\n",
    "df.head()"
   ]
  },
  {
   "cell_type": "markdown",
   "metadata": {},
   "source": [
    "## Quantidade de Hora Aula por materia"
   ]
  },
  {
   "cell_type": "code",
   "execution_count": 11,
   "metadata": {},
   "outputs": [
    {
     "data": {
      "text/html": [
       "<div>\n",
       "<style scoped>\n",
       "    .dataframe tbody tr th:only-of-type {\n",
       "        vertical-align: middle;\n",
       "    }\n",
       "\n",
       "    .dataframe tbody tr th {\n",
       "        vertical-align: top;\n",
       "    }\n",
       "\n",
       "    .dataframe thead th {\n",
       "        text-align: right;\n",
       "    }\n",
       "</style>\n",
       "<table border=\"1\" class=\"dataframe\">\n",
       "  <thead>\n",
       "    <tr style=\"text-align: right;\">\n",
       "      <th></th>\n",
       "      <th>Professor</th>\n",
       "      <th>Materia</th>\n",
       "      <th>Semestre_Curso</th>\n",
       "      <th>Curso</th>\n",
       "      <th>Total_Horas</th>\n",
       "      <th>Periodos_Total</th>\n",
       "    </tr>\n",
       "  </thead>\n",
       "  <tbody>\n",
       "    <tr>\n",
       "      <th>0</th>\n",
       "      <td>ALEX</td>\n",
       "      <td>CALCULODIFERENCIALEINTEGRALI</td>\n",
       "      <td>1_EAS</td>\n",
       "      <td>EAS</td>\n",
       "      <td>4</td>\n",
       "      <td>2.0</td>\n",
       "    </tr>\n",
       "    <tr>\n",
       "      <th>1</th>\n",
       "      <td>ALEX</td>\n",
       "      <td>CALCULOI</td>\n",
       "      <td>1_ECV</td>\n",
       "      <td>ECV</td>\n",
       "      <td>4</td>\n",
       "      <td>2.0</td>\n",
       "    </tr>\n",
       "    <tr>\n",
       "      <th>2</th>\n",
       "      <td>ALEX</td>\n",
       "      <td>GEOMETRIAECONSTRUCOESCEM319</td>\n",
       "      <td>5_LCEMATEMATICA</td>\n",
       "      <td>LCEMATEMATICA</td>\n",
       "      <td>4</td>\n",
       "      <td>2.0</td>\n",
       "    </tr>\n",
       "    <tr>\n",
       "      <th>3</th>\n",
       "      <td>ARMANI</td>\n",
       "      <td>INTRODUCAOAENGENHARIAAMBIENTAL</td>\n",
       "      <td>1_EAS</td>\n",
       "      <td>EAS</td>\n",
       "      <td>4</td>\n",
       "      <td>2.0</td>\n",
       "    </tr>\n",
       "    <tr>\n",
       "      <th>4</th>\n",
       "      <td>ARMANI</td>\n",
       "      <td>POLUICAODOAR</td>\n",
       "      <td>7_EAS</td>\n",
       "      <td>EAS</td>\n",
       "      <td>3</td>\n",
       "      <td>2.0</td>\n",
       "    </tr>\n",
       "  </tbody>\n",
       "</table>\n",
       "</div>"
      ],
      "text/plain": [
       "  Professor                         Materia   Semestre_Curso          Curso  \\\n",
       "0      ALEX    CALCULODIFERENCIALEINTEGRALI            1_EAS            EAS   \n",
       "1      ALEX                        CALCULOI            1_ECV            ECV   \n",
       "2      ALEX     GEOMETRIAECONSTRUCOESCEM319  5_LCEMATEMATICA  LCEMATEMATICA   \n",
       "3    ARMANI  INTRODUCAOAENGENHARIAAMBIENTAL            1_EAS            EAS   \n",
       "4    ARMANI                    POLUICAODOAR            7_EAS            EAS   \n",
       "\n",
       "   Total_Horas  Periodos_Total  \n",
       "0            4             2.0  \n",
       "1            4             2.0  \n",
       "2            4             2.0  \n",
       "3            4             2.0  \n",
       "4            3             2.0  "
      ]
     },
     "execution_count": 11,
     "metadata": {},
     "output_type": "execute_result"
    }
   ],
   "source": [
    "hora_aula_materia = df.groupby(['Professor','Materia','Semestre_Curso','Curso'])['Campus'].count().reset_index()\n",
    "hora_aula_materia.rename(columns={'Campus':'Total_Horas'}, inplace=True)\n",
    "hora_aula_materia['Periodos_Total'] = np.ceil(hora_aula_materia['Total_Horas']/2)\n",
    "\n",
    "hora_aula_materia.head()"
   ]
  },
  {
   "cell_type": "code",
   "execution_count": 12,
   "metadata": {},
   "outputs": [
    {
     "data": {
      "text/plain": [
       "193"
      ]
     },
     "execution_count": 12,
     "metadata": {},
     "output_type": "execute_result"
    }
   ],
   "source": [
    "len(hora_aula_materia)"
   ]
  },
  {
   "cell_type": "markdown",
   "metadata": {},
   "source": [
    "- Existem materias que temos mais de um professor ofertando\n",
    "- Fiz o round na quantidade de periodos, pensar se isso não vai interferir, ou se é melhor trabalhar com a quantidade de horas ao invés dos periodos\n"
   ]
  },
  {
   "cell_type": "markdown",
   "metadata": {},
   "source": [
    "## Professores e as matérias que ofertam"
   ]
  },
  {
   "cell_type": "code",
   "execution_count": 13,
   "metadata": {},
   "outputs": [
    {
     "data": {
      "text/html": [
       "<div>\n",
       "<style scoped>\n",
       "    .dataframe tbody tr th:only-of-type {\n",
       "        vertical-align: middle;\n",
       "    }\n",
       "\n",
       "    .dataframe tbody tr th {\n",
       "        vertical-align: top;\n",
       "    }\n",
       "\n",
       "    .dataframe thead th {\n",
       "        text-align: right;\n",
       "    }\n",
       "</style>\n",
       "<table border=\"1\" class=\"dataframe\">\n",
       "  <thead>\n",
       "    <tr style=\"text-align: right;\">\n",
       "      <th></th>\n",
       "      <th>Professor</th>\n",
       "      <th>Campus</th>\n",
       "      <th>Curso</th>\n",
       "      <th>Tipo_Curso</th>\n",
       "      <th>Materia</th>\n",
       "    </tr>\n",
       "  </thead>\n",
       "  <tbody>\n",
       "    <tr>\n",
       "      <th>0</th>\n",
       "      <td>LAGREZE</td>\n",
       "      <td>MIRASOL</td>\n",
       "      <td>EAQ</td>\n",
       "      <td>MATUTINO</td>\n",
       "      <td>INTRODUCAOAAQUICULTURA</td>\n",
       "    </tr>\n",
       "    <tr>\n",
       "      <th>1</th>\n",
       "      <td>CENDON</td>\n",
       "      <td>MIRASOL</td>\n",
       "      <td>EAQ</td>\n",
       "      <td>MATUTINO</td>\n",
       "      <td>PROBABILIDADE</td>\n",
       "    </tr>\n",
       "    <tr>\n",
       "      <th>2</th>\n",
       "      <td>SACHSIDA</td>\n",
       "      <td>MIRASOL</td>\n",
       "      <td>EAQ</td>\n",
       "      <td>MATUTINO</td>\n",
       "      <td>INTRODUCAOAQUALIDADE</td>\n",
       "    </tr>\n",
       "    <tr>\n",
       "      <th>3</th>\n",
       "      <td>LUCIANA</td>\n",
       "      <td>MIRASOL</td>\n",
       "      <td>EAQ</td>\n",
       "      <td>MATUTINO</td>\n",
       "      <td>GEOMETRIAANALITICA</td>\n",
       "    </tr>\n",
       "    <tr>\n",
       "      <th>4</th>\n",
       "      <td>DANIELA</td>\n",
       "      <td>MIRASOL</td>\n",
       "      <td>EAQ</td>\n",
       "      <td>MATUTINO</td>\n",
       "      <td>PROJETOSENGI</td>\n",
       "    </tr>\n",
       "  </tbody>\n",
       "</table>\n",
       "</div>"
      ],
      "text/plain": [
       "  Professor   Campus Curso Tipo_Curso                 Materia\n",
       "0   LAGREZE  MIRASOL   EAQ   MATUTINO  INTRODUCAOAAQUICULTURA\n",
       "1    CENDON  MIRASOL   EAQ   MATUTINO           PROBABILIDADE\n",
       "2  SACHSIDA  MIRASOL   EAQ   MATUTINO    INTRODUCAOAQUALIDADE\n",
       "3   LUCIANA  MIRASOL   EAQ   MATUTINO      GEOMETRIAANALITICA\n",
       "4   DANIELA  MIRASOL   EAQ   MATUTINO            PROJETOSENGI"
      ]
     },
     "execution_count": 13,
     "metadata": {},
     "output_type": "execute_result"
    }
   ],
   "source": [
    "professores_materias = df[['Professor','Campus','Curso','Tipo_Curso','Materia']].drop_duplicates().reset_index(drop=True)\n",
    "\n",
    "#remove materias que não tem professor\n",
    "professores_materias.dropna(subset=['Professor'], inplace=True)\n",
    "professores_materias.head()"
   ]
  },
  {
   "cell_type": "code",
   "execution_count": 14,
   "metadata": {},
   "outputs": [
    {
     "data": {
      "text/html": [
       "<div>\n",
       "<style scoped>\n",
       "    .dataframe tbody tr th:only-of-type {\n",
       "        vertical-align: middle;\n",
       "    }\n",
       "\n",
       "    .dataframe tbody tr th {\n",
       "        vertical-align: top;\n",
       "    }\n",
       "\n",
       "    .dataframe thead th {\n",
       "        text-align: right;\n",
       "    }\n",
       "</style>\n",
       "<table border=\"1\" class=\"dataframe\">\n",
       "  <thead>\n",
       "    <tr style=\"text-align: right;\">\n",
       "      <th></th>\n",
       "      <th>Professor</th>\n",
       "      <th>Campus</th>\n",
       "      <th>Curso</th>\n",
       "      <th>Tipo_Curso</th>\n",
       "      <th>Materia</th>\n",
       "    </tr>\n",
       "  </thead>\n",
       "  <tbody>\n",
       "  </tbody>\n",
       "</table>\n",
       "</div>"
      ],
      "text/plain": [
       "Empty DataFrame\n",
       "Columns: [Professor, Campus, Curso, Tipo_Curso, Materia]\n",
       "Index: []"
      ]
     },
     "execution_count": 14,
     "metadata": {},
     "output_type": "execute_result"
    }
   ],
   "source": [
    "professores_materias[professores_materias['Professor'].isnull()]"
   ]
  },
  {
   "cell_type": "code",
   "execution_count": 15,
   "metadata": {},
   "outputs": [
    {
     "data": {
      "text/plain": [
       "203"
      ]
     },
     "execution_count": 15,
     "metadata": {},
     "output_type": "execute_result"
    }
   ],
   "source": [
    "len(professores_materias)"
   ]
  },
  {
   "cell_type": "markdown",
   "metadata": {},
   "source": [
    "## Materias Comuns as licenciaturas"
   ]
  },
  {
   "cell_type": "code",
   "execution_count": 16,
   "metadata": {},
   "outputs": [
    {
     "data": {
      "text/plain": [
       "COMUM ENTRE LCE                     24\n",
       "MIRASOLPONTAL                        9\n",
       "SALA 4                               7\n",
       "PONTALMIRASOL                        4\n",
       "SALA 4 SALA QUE TEM COMPUTADORES     1\n",
       "Name: Observacao, dtype: int64"
      ]
     },
     "execution_count": 16,
     "metadata": {},
     "output_type": "execute_result"
    }
   ],
   "source": [
    "df['Observacao'].value_counts()"
   ]
  },
  {
   "cell_type": "code",
   "execution_count": 17,
   "metadata": {},
   "outputs": [
    {
     "data": {
      "text/html": [
       "<div>\n",
       "<style scoped>\n",
       "    .dataframe tbody tr th:only-of-type {\n",
       "        vertical-align: middle;\n",
       "    }\n",
       "\n",
       "    .dataframe tbody tr th {\n",
       "        vertical-align: top;\n",
       "    }\n",
       "\n",
       "    .dataframe thead th {\n",
       "        text-align: right;\n",
       "    }\n",
       "</style>\n",
       "<table border=\"1\" class=\"dataframe\">\n",
       "  <thead>\n",
       "    <tr style=\"text-align: right;\">\n",
       "      <th></th>\n",
       "      <th>Professor</th>\n",
       "      <th>Campus</th>\n",
       "      <th>Materia</th>\n",
       "      <th>Semestre_Curso</th>\n",
       "    </tr>\n",
       "  </thead>\n",
       "  <tbody>\n",
       "    <tr>\n",
       "      <th>0</th>\n",
       "      <td>VALDIR</td>\n",
       "      <td>MIRASOL</td>\n",
       "      <td>PRATICAPEDAGOGICADOENSINOCEM335</td>\n",
       "      <td>5_LCEFISICA</td>\n",
       "    </tr>\n",
       "    <tr>\n",
       "      <th>1</th>\n",
       "      <td>JEINNI</td>\n",
       "      <td>MIRASOL</td>\n",
       "      <td>DIDATICADASCIENCIASCEM334</td>\n",
       "      <td>5_LCEFISICA</td>\n",
       "    </tr>\n",
       "    <tr>\n",
       "      <th>2</th>\n",
       "      <td>JEINNI</td>\n",
       "      <td>MIRASOL</td>\n",
       "      <td>ESTAGIOCIENCIASICEM336</td>\n",
       "      <td>5_LCEFISICA</td>\n",
       "    </tr>\n",
       "    <tr>\n",
       "      <th>3</th>\n",
       "      <td>ELIANE</td>\n",
       "      <td>MIRASOL</td>\n",
       "      <td>DIVULGACAOCIENTIFICACEM326</td>\n",
       "      <td>5_LCEFISICA</td>\n",
       "    </tr>\n",
       "    <tr>\n",
       "      <th>4</th>\n",
       "      <td>VALDIR</td>\n",
       "      <td>MIRASOL</td>\n",
       "      <td>PRATICAPEDAGOGICADOENSINOCEM335</td>\n",
       "      <td>5_LCEMATEMATICA</td>\n",
       "    </tr>\n",
       "    <tr>\n",
       "      <th>5</th>\n",
       "      <td>JEINNI</td>\n",
       "      <td>MIRASOL</td>\n",
       "      <td>DIDATICADASCIENCIASCEM334</td>\n",
       "      <td>5_LCEMATEMATICA</td>\n",
       "    </tr>\n",
       "    <tr>\n",
       "      <th>6</th>\n",
       "      <td>JEINNI</td>\n",
       "      <td>MIRASOL</td>\n",
       "      <td>ESTAGIOCIENCIASICEM336</td>\n",
       "      <td>5_LCEMATEMATICA</td>\n",
       "    </tr>\n",
       "    <tr>\n",
       "      <th>7</th>\n",
       "      <td>ELIANE</td>\n",
       "      <td>MIRASOL</td>\n",
       "      <td>DIVULGACAOCIENTIFICACEM326</td>\n",
       "      <td>5_LCEMATEMATICA</td>\n",
       "    </tr>\n",
       "    <tr>\n",
       "      <th>8</th>\n",
       "      <td>VALDIR</td>\n",
       "      <td>MIRASOL</td>\n",
       "      <td>PRATICAPEDAGOGICADOENSINOCEM335</td>\n",
       "      <td>5_LCEQUIMICA</td>\n",
       "    </tr>\n",
       "    <tr>\n",
       "      <th>9</th>\n",
       "      <td>JEINNI</td>\n",
       "      <td>MIRASOL</td>\n",
       "      <td>DIDATICADASCIENCIASCEM334</td>\n",
       "      <td>5_LCEQUIMICA</td>\n",
       "    </tr>\n",
       "    <tr>\n",
       "      <th>10</th>\n",
       "      <td>JEINNI</td>\n",
       "      <td>MIRASOL</td>\n",
       "      <td>ESTAGIOCIENCIASICEM336</td>\n",
       "      <td>5_LCEQUIMICA</td>\n",
       "    </tr>\n",
       "    <tr>\n",
       "      <th>11</th>\n",
       "      <td>ELIANE</td>\n",
       "      <td>MIRASOL</td>\n",
       "      <td>DIVULGACAOCIENTIFICACEM326</td>\n",
       "      <td>5_LCEQUIMICA</td>\n",
       "    </tr>\n",
       "  </tbody>\n",
       "</table>\n",
       "</div>"
      ],
      "text/plain": [
       "   Professor   Campus                          Materia   Semestre_Curso\n",
       "0     VALDIR  MIRASOL  PRATICAPEDAGOGICADOENSINOCEM335      5_LCEFISICA\n",
       "1     JEINNI  MIRASOL        DIDATICADASCIENCIASCEM334      5_LCEFISICA\n",
       "2     JEINNI  MIRASOL           ESTAGIOCIENCIASICEM336      5_LCEFISICA\n",
       "3     ELIANE  MIRASOL       DIVULGACAOCIENTIFICACEM326      5_LCEFISICA\n",
       "4     VALDIR  MIRASOL  PRATICAPEDAGOGICADOENSINOCEM335  5_LCEMATEMATICA\n",
       "5     JEINNI  MIRASOL        DIDATICADASCIENCIASCEM334  5_LCEMATEMATICA\n",
       "6     JEINNI  MIRASOL           ESTAGIOCIENCIASICEM336  5_LCEMATEMATICA\n",
       "7     ELIANE  MIRASOL       DIVULGACAOCIENTIFICACEM326  5_LCEMATEMATICA\n",
       "8     VALDIR  MIRASOL  PRATICAPEDAGOGICADOENSINOCEM335     5_LCEQUIMICA\n",
       "9     JEINNI  MIRASOL        DIDATICADASCIENCIASCEM334     5_LCEQUIMICA\n",
       "10    JEINNI  MIRASOL           ESTAGIOCIENCIASICEM336     5_LCEQUIMICA\n",
       "11    ELIANE  MIRASOL       DIVULGACAOCIENTIFICACEM326     5_LCEQUIMICA"
      ]
     },
     "execution_count": 17,
     "metadata": {},
     "output_type": "execute_result"
    }
   ],
   "source": [
    "materias_comuns = df[df['Observacao']=='COMUM ENTRE LCE'][['Professor','Campus','Materia','Semestre_Curso']]\\\n",
    "    .drop_duplicates().reset_index(drop=True)\n",
    "\n",
    "materias_comuns"
   ]
  },
  {
   "cell_type": "markdown",
   "metadata": {},
   "source": [
    "## Salvando os dataframes"
   ]
  },
  {
   "cell_type": "code",
   "execution_count": 18,
   "metadata": {},
   "outputs": [],
   "source": [
    "hora_aula_materia.to_csv('hora_aula_materia.csv', index=False)\n",
    "professores_materias.to_csv('professores_materias.csv', index=False)\n",
    "materias_comuns.to_csv('materias_comuns.csv', index=False)\n",
    "df.to_csv('grade_compilada_tratado.csv', index=False)"
   ]
  }
 ],
 "metadata": {
  "kernelspec": {
   "display_name": "Python 3 (ipykernel)",
   "language": "python",
   "name": "python3"
  },
  "language_info": {
   "codemirror_mode": {
    "name": "ipython",
    "version": 3
   },
   "file_extension": ".py",
   "mimetype": "text/x-python",
   "name": "python",
   "nbconvert_exporter": "python",
   "pygments_lexer": "ipython3",
   "version": "3.9.12"
  }
 },
 "nbformat": 4,
 "nbformat_minor": 2
}
